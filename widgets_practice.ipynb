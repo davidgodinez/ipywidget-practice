{
 "cells": [
  {
   "cell_type": "code",
   "execution_count": 1,
   "id": "6c60abd8",
   "metadata": {},
   "outputs": [],
   "source": [
    "import ipywidgets as widgets"
   ]
  },
  {
   "cell_type": "code",
   "execution_count": 3,
   "id": "b8d8305d",
   "metadata": {},
   "outputs": [
    {
     "data": {
      "application/vnd.jupyter.widget-view+json": {
       "model_id": "47513a69ede944d7af52e114c224fe5a",
       "version_major": 2,
       "version_minor": 0
      },
      "text/plain": [
       "IntSlider(value=0)"
      ]
     },
     "metadata": {},
     "output_type": "display_data"
    }
   ],
   "source": [
    "widgets.IntSlider()"
   ]
  },
  {
   "cell_type": "code",
   "execution_count": 9,
   "id": "7864d5d8",
   "metadata": {},
   "outputs": [
    {
     "data": {
      "application/vnd.jupyter.widget-view+json": {
       "model_id": "20e5c34aaf36498f81a565446623e0eb",
       "version_major": 2,
       "version_minor": 0
      },
      "text/plain": [
       "FloatText(value=0.0)"
      ]
     },
     "metadata": {},
     "output_type": "display_data"
    },
    {
     "data": {
      "application/vnd.jupyter.widget-view+json": {
       "model_id": "f40a8db9119c46e984cc0c92a3faa6fd",
       "version_major": 2,
       "version_minor": 0
      },
      "text/plain": [
       "FloatLogSlider(value=1.0)"
      ]
     },
     "metadata": {},
     "output_type": "display_data"
    }
   ],
   "source": [
    "# displaying two widgets and linking them\n",
    "a = widgets.FloatText()\n",
    "b = widgets.FloatLogSlider()\n",
    "display(a,b)\n",
    "mylink = widgets.jslink((a, 'value'), (b, 'value'))"
   ]
  },
  {
   "cell_type": "code",
   "execution_count": 13,
   "id": "642fa643",
   "metadata": {},
   "outputs": [],
   "source": [
    "l = [1,2,3,4,5,6,7,8,10,11,12,13]"
   ]
  },
  {
   "cell_type": "code",
   "execution_count": 17,
   "id": "c4d1dec2",
   "metadata": {},
   "outputs": [
    {
     "data": {
      "application/vnd.jupyter.widget-view+json": {
       "model_id": "ef0b16acbfcb4d02aa56b4afa114c12d",
       "version_major": 2,
       "version_minor": 0
      },
      "text/plain": [
       "IntSlider(value=10, description='Test slider', max=13, min=1, orientation='vertical', step=2)"
      ]
     },
     "metadata": {},
     "output_type": "display_data"
    }
   ],
   "source": [
    "# testing a vertical intslider\n",
    "\n",
    "widgets.IntSlider(\n",
    "    value=10,\n",
    "    min=l[0],\n",
    "    max=l[-1],\n",
    "    step=2,\n",
    "    description='Test slider',\n",
    "    orientation='vertical',\n",
    "    readout=True,\n",
    "    readout_format='d'\n",
    ")"
   ]
  },
  {
   "cell_type": "code",
   "execution_count": 23,
   "id": "4f5b1188",
   "metadata": {},
   "outputs": [
    {
     "data": {
      "application/vnd.jupyter.widget-view+json": {
       "model_id": "7388302cb5f9452487c4e5d4cfdeb446",
       "version_major": 2,
       "version_minor": 0
      },
      "text/plain": [
       "Dropdown(description='Test List', options=(1, 2, 3, 4, 5, 6, 7, 8, 10, 11, 12, 13), value=1)"
      ]
     },
     "metadata": {},
     "output_type": "display_data"
    }
   ],
   "source": [
    "# testing a dropdown list l\n",
    "\n",
    "a = widgets.Dropdown(\n",
    "    options=l,\n",
    "    value=l[0],\n",
    "    description=\"Test List\",\n",
    "    disabled=False\n",
    ")\n",
    "\n",
    "display(a)"
   ]
  },
  {
   "cell_type": "code",
   "execution_count": 27,
   "id": "5488c5fe",
   "metadata": {},
   "outputs": [
    {
     "data": {
      "application/vnd.jupyter.widget-view+json": {
       "model_id": "1df513181d0a4c6ba811d7239ddcf899",
       "version_major": 2,
       "version_minor": 0
      },
      "text/plain": [
       "Checkbox(value=False, description='Rainy Day?')"
      ]
     },
     "metadata": {},
     "output_type": "display_data"
    }
   ],
   "source": [
    "# testing a checkbox\n",
    "\n",
    "a = widgets.Checkbox(\n",
    "        value=False,\n",
    "        description=\"Rainy Day?\",\n",
    "        disabled=False\n",
    ")\n",
    "display(a)"
   ]
  },
  {
   "cell_type": "code",
   "execution_count": null,
   "id": "37a27829",
   "metadata": {},
   "outputs": [],
   "source": [
    "# testing a float log slider\n",
    "\n",
    "widgets.FloatLogSlider(\n",
    "    value=10,\n",
    "    \n",
    "     \n",
    ")"
   ]
  }
 ],
 "metadata": {
  "kernelspec": {
   "display_name": "Python [conda env:myenv]",
   "language": "python",
   "name": "conda-env-myenv-py"
  },
  "language_info": {
   "codemirror_mode": {
    "name": "ipython",
    "version": 3
   },
   "file_extension": ".py",
   "mimetype": "text/x-python",
   "name": "python",
   "nbconvert_exporter": "python",
   "pygments_lexer": "ipython3",
   "version": "3.9.12"
  }
 },
 "nbformat": 4,
 "nbformat_minor": 5
}
