{
 "cells": [
  {
   "cell_type": "markdown",
   "id": "95021d23",
   "metadata": {},
   "source": [
    "# City Of Chicago Dashboard"
   ]
  },
  {
   "cell_type": "markdown",
   "id": "3f810b22",
   "metadata": {},
   "source": [
    "This notebook is to practice using ipywidgets"
   ]
  },
  {
   "cell_type": "markdown",
   "id": "7d548691",
   "metadata": {},
   "source": [
    "--- "
   ]
  },
  {
   "cell_type": "code",
   "execution_count": 3,
   "id": "0e2a2818",
   "metadata": {},
   "outputs": [],
   "source": [
    "import pandas as pd\n",
    "import ipywidgets as widgets"
   ]
  },
  {
   "cell_type": "code",
   "execution_count": null,
   "id": "d72abc75",
   "metadata": {},
   "outputs": [],
   "source": [
    " "
   ]
  }
 ],
 "metadata": {
  "kernelspec": {
   "display_name": "Python [conda env:myenv]",
   "language": "python",
   "name": "conda-env-myenv-py"
  },
  "language_info": {
   "codemirror_mode": {
    "name": "ipython",
    "version": 3
   },
   "file_extension": ".py",
   "mimetype": "text/x-python",
   "name": "python",
   "nbconvert_exporter": "python",
   "pygments_lexer": "ipython3",
   "version": "3.9.12"
  }
 },
 "nbformat": 4,
 "nbformat_minor": 5
}
