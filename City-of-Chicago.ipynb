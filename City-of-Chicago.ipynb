{
 "cells": [
  {
   "cell_type": "markdown",
   "id": "95021d23",
   "metadata": {},
   "source": [
    "# City Of Chicago Dashboard"
   ]
  },
  {
   "cell_type": "markdown",
   "id": "3f810b22",
   "metadata": {},
   "source": [
    "This notebook is to practice using ipywidgets"
   ]
  },
  {
   "cell_type": "markdown",
   "id": "7d548691",
   "metadata": {},
   "source": [
    "--- "
   ]
  },
  {
   "cell_type": "code",
   "execution_count": 1,
   "id": "0e2a2818",
   "metadata": {},
   "outputs": [],
   "source": [
    "import pandas as pd\n",
    "import ipywidgets as widgets"
   ]
  },
  {
   "cell_type": "code",
   "execution_count": 7,
   "id": "b3c9defd",
   "metadata": {},
   "outputs": [
    {
     "data": {
      "text/html": [
       "<div>\n",
       "<style scoped>\n",
       "    .dataframe tbody tr th:only-of-type {\n",
       "        vertical-align: middle;\n",
       "    }\n",
       "\n",
       "    .dataframe tbody tr th {\n",
       "        vertical-align: top;\n",
       "    }\n",
       "\n",
       "    .dataframe thead th {\n",
       "        text-align: right;\n",
       "    }\n",
       "</style>\n",
       "<table border=\"1\" class=\"dataframe\">\n",
       "  <thead>\n",
       "    <tr style=\"text-align: right;\">\n",
       "      <th></th>\n",
       "      <th>ID</th>\n",
       "      <th>LEGAL NAME</th>\n",
       "      <th>ZIP CODE</th>\n",
       "      <th>BUSINESS ACTIVITY</th>\n",
       "    </tr>\n",
       "  </thead>\n",
       "  <tbody>\n",
       "    <tr>\n",
       "      <th>0</th>\n",
       "      <td>2215438-20201216</td>\n",
       "      <td>DE LA TORRE AUTO SALES INC.</td>\n",
       "      <td>60621</td>\n",
       "      <td>Motor Vehicle Repair -  Engine and Transmissio...</td>\n",
       "    </tr>\n",
       "    <tr>\n",
       "      <th>1</th>\n",
       "      <td>2631946-20201116</td>\n",
       "      <td>SITEL ARM CORP.</td>\n",
       "      <td>33131</td>\n",
       "      <td>Debt Collecting - Administrative Commercial Of...</td>\n",
       "    </tr>\n",
       "    <tr>\n",
       "      <th>2</th>\n",
       "      <td>2601093-20200616</td>\n",
       "      <td>Energy Resource Specialist, Inc</td>\n",
       "      <td>61523</td>\n",
       "      <td>Roof Repair and Installation</td>\n",
       "    </tr>\n",
       "    <tr>\n",
       "      <th>3</th>\n",
       "      <td>1478387-20201116</td>\n",
       "      <td>CTA FOODS, INC.</td>\n",
       "      <td>60622</td>\n",
       "      <td>Retail Sales of Packaged Liquor</td>\n",
       "    </tr>\n",
       "    <tr>\n",
       "      <th>4</th>\n",
       "      <td>2627621-20201216</td>\n",
       "      <td>CENVEO WORLDWIDE LIMITED</td>\n",
       "      <td>60618</td>\n",
       "      <td>Printing Activities, Metal Processing</td>\n",
       "    </tr>\n",
       "    <tr>\n",
       "      <th>...</th>\n",
       "      <td>...</td>\n",
       "      <td>...</td>\n",
       "      <td>...</td>\n",
       "      <td>...</td>\n",
       "    </tr>\n",
       "    <tr>\n",
       "      <th>995</th>\n",
       "      <td>1770247-20220116</td>\n",
       "      <td>FIRYAL RAHO CORPORATION</td>\n",
       "      <td>60638</td>\n",
       "      <td>Retail Sales of Perishable Foods</td>\n",
       "    </tr>\n",
       "    <tr>\n",
       "      <th>996</th>\n",
       "      <td>2215898-20211116</td>\n",
       "      <td>NEW KNOWLEDGE LEARNING CENTER, INC.</td>\n",
       "      <td>60652</td>\n",
       "      <td>Supervision of, and Care for, Children 2-6 Yea...</td>\n",
       "    </tr>\n",
       "    <tr>\n",
       "      <th>997</th>\n",
       "      <td>1888175-20220216</td>\n",
       "      <td>JEFFERSON BEACH YACHT SALES, INC.</td>\n",
       "      <td>60654</td>\n",
       "      <td>NaN</td>\n",
       "    </tr>\n",
       "    <tr>\n",
       "      <th>998</th>\n",
       "      <td>13610-20220116</td>\n",
       "      <td>JTR HYDRAULIC</td>\n",
       "      <td>60609</td>\n",
       "      <td>NaN</td>\n",
       "    </tr>\n",
       "    <tr>\n",
       "      <th>999</th>\n",
       "      <td>2827715-20220107</td>\n",
       "      <td>EMPIRE FINANCIALS, INC.</td>\n",
       "      <td>60641</td>\n",
       "      <td>Tax Preparation Services</td>\n",
       "    </tr>\n",
       "  </tbody>\n",
       "</table>\n",
       "<p>1000 rows × 4 columns</p>\n",
       "</div>"
      ],
      "text/plain": [
       "                   ID                           LEGAL NAME  ZIP CODE  \\\n",
       "0    2215438-20201216          DE LA TORRE AUTO SALES INC.     60621   \n",
       "1    2631946-20201116                      SITEL ARM CORP.     33131   \n",
       "2    2601093-20200616      Energy Resource Specialist, Inc     61523   \n",
       "3    1478387-20201116                      CTA FOODS, INC.     60622   \n",
       "4    2627621-20201216             CENVEO WORLDWIDE LIMITED     60618   \n",
       "..                ...                                  ...       ...   \n",
       "995  1770247-20220116              FIRYAL RAHO CORPORATION     60638   \n",
       "996  2215898-20211116  NEW KNOWLEDGE LEARNING CENTER, INC.     60652   \n",
       "997  1888175-20220216    JEFFERSON BEACH YACHT SALES, INC.     60654   \n",
       "998    13610-20220116                        JTR HYDRAULIC     60609   \n",
       "999  2827715-20220107              EMPIRE FINANCIALS, INC.     60641   \n",
       "\n",
       "                                     BUSINESS ACTIVITY  \n",
       "0    Motor Vehicle Repair -  Engine and Transmissio...  \n",
       "1    Debt Collecting - Administrative Commercial Of...  \n",
       "2                         Roof Repair and Installation  \n",
       "3                      Retail Sales of Packaged Liquor  \n",
       "4                Printing Activities, Metal Processing  \n",
       "..                                                 ...  \n",
       "995                   Retail Sales of Perishable Foods  \n",
       "996  Supervision of, and Care for, Children 2-6 Yea...  \n",
       "997                                                NaN  \n",
       "998                                                NaN  \n",
       "999                           Tax Preparation Services  \n",
       "\n",
       "[1000 rows x 4 columns]"
      ]
     },
     "execution_count": 7,
     "metadata": {},
     "output_type": "execute_result"
    }
   ],
   "source": [
    "# csv can be downloaded at https://data.cityofchicago.org/resource/uupf-x98q.csv\n",
    "\n",
    "df = pd.read_csv('https://data.cityofchicago.org/resource/uupf-x98q.csv')\n",
    "df[['ID', 'LEGAL NAME', 'ZIP CODE', 'BUSINESS ACTIVITY']]"
   ]
  },
  {
   "cell_type": "code",
   "execution_count": 18,
   "id": "819772b4",
   "metadata": {},
   "outputs": [
    {
     "data": {
      "text/plain": [
       "[60618,\n",
       " 60609,\n",
       " 60622,\n",
       " 60639,\n",
       " 60657,\n",
       " 60659,\n",
       " 60638,\n",
       " 60608,\n",
       " 60647,\n",
       " 60641,\n",
       " 60614,\n",
       " 60611,\n",
       " 60607]"
      ]
     },
     "execution_count": 18,
     "metadata": {},
     "output_type": "execute_result"
    }
   ],
   "source": [
    "# filtering based on # of business in each zipcode\n",
    "\n",
    "zip_codes = df.groupby('ZIP CODE').count()['ID'].sort_values(ascending=False)\n",
    "zip_codes = list(zip_codes[zip_codes > 20].index)\n",
    "zip_codes"
   ]
  },
  {
   "cell_type": "markdown",
   "id": "8f74b014",
   "metadata": {},
   "source": [
    "## Creating the GUI's "
   ]
  },
  {
   "cell_type": "code",
   "execution_count": 26,
   "id": "a139492a",
   "metadata": {},
   "outputs": [
    {
     "data": {
      "application/vnd.jupyter.widget-view+json": {
       "model_id": "902f0d7762a3452b94e1a7fbf3512432",
       "version_major": 2,
       "version_minor": 0
      },
      "text/plain": [
       "Dropdown(description='Zip Code', options=(60618, 60609, 60622, 60639, 60657, 60659, 60638, 60608, 60647, 60641…"
      ]
     },
     "metadata": {},
     "output_type": "display_data"
    }
   ],
   "source": [
    "# creating a dropdown for zip codes\n",
    "zips_dropdown = widgets.Dropdown(\n",
    "    options=zip_codes,\n",
    "    value=zip_codes[0],\n",
    "    description='Zip Code',\n",
    "    disabled=False)\n",
    "\n",
    "display(zips_dropdown)"
   ]
  },
  {
   "cell_type": "code",
   "execution_count": 42,
   "id": "d33526e7",
   "metadata": {},
   "outputs": [
    {
     "data": {
      "application/vnd.jupyter.widget-view+json": {
       "model_id": "e5bfea49abff4c43a290b330869c3b32",
       "version_major": 2,
       "version_minor": 0
      },
      "text/plain": [
       "Dropdown(description='Column', options=('ID', 'LICENSE ID', 'ACCOUNT NUMBER', 'SITE NUMBER', 'LEGAL NAME', 'DO…"
      ]
     },
     "metadata": {},
     "output_type": "display_data"
    }
   ],
   "source": [
    "# creating a dropdown for the columns\n",
    "\n",
    "column_dropdown = widgets.Dropdown(\n",
    "    options=df.columns,\n",
    "    value=df.columns[0],\n",
    "    description='Column',\n",
    "    disabled=False)\n",
    "\n",
    "display(column_dropdown)"
   ]
  },
  {
   "cell_type": "code",
   "execution_count": 31,
   "id": "c3ff69a5",
   "metadata": {},
   "outputs": [
    {
     "data": {
      "application/vnd.jupyter.widget-view+json": {
       "model_id": "bf7b2dbc18664657a4d490c689e7214a",
       "version_major": 2,
       "version_minor": 0
      },
      "text/plain": [
       "Checkbox(value=False, description='Ascending')"
      ]
     },
     "metadata": {},
     "output_type": "display_data"
    }
   ],
   "source": [
    "# Using a checkbox for our boolean\n",
    "\n",
    "checkbox = widgets.Checkbox(\n",
    "    value=False,\n",
    "    description='Ascending',\n",
    "    disabled=False)\n",
    "\n",
    "display(checkbox)"
   ]
  },
  {
   "cell_type": "code",
   "execution_count": 40,
   "id": "6e913edf",
   "metadata": {},
   "outputs": [
    {
     "data": {
      "application/vnd.jupyter.widget-view+json": {
       "model_id": "b01d8bc3023247209cc8331f52de97a8",
       "version_major": 2,
       "version_minor": 0
      },
      "text/plain": [
       "SelectMultiple(description='Columns', index=(0, 3), options=('ID', 'LICENSE ID', 'ACCOUNT NUMBER', 'SITE NUMBE…"
      ]
     },
     "metadata": {},
     "output_type": "display_data"
    }
   ],
   "source": [
    "# Select multiple \n",
    "\n",
    "columns_dropdown = widgets.SelectMultiple(options=df.columns,\n",
    "                       value=[df.columns[0], df.columns[3]],\n",
    "                       disabled=False,\n",
    "                       description='Columns')\n",
    "\n",
    "display(columns_dropdown)"
   ]
  },
  {
   "cell_type": "code",
   "execution_count": 191,
   "id": "10d9413b",
   "metadata": {},
   "outputs": [
    {
     "data": {
      "application/vnd.jupyter.widget-view+json": {
       "model_id": "27f0f824ef2d494194801e3a00d5b53d",
       "version_major": 2,
       "version_minor": 0
      },
      "text/plain": [
       "Button(description='Run', style=ButtonStyle(), tooltip='Updates the query')"
      ]
     },
     "metadata": {},
     "output_type": "display_data"
    }
   ],
   "source": [
    "# Creating a button to force updates\n",
    "\n",
    "button = widgets.Button(description='Run',\n",
    "               tooltip='Updates the query')\n",
    "display(button)"
   ]
  },
  {
   "cell_type": "code",
   "execution_count": 192,
   "id": "09cc7fc1",
   "metadata": {},
   "outputs": [
    {
     "data": {
      "application/vnd.jupyter.widget-view+json": {
       "model_id": "a59219fca8354bfc98df6f8f99862291",
       "version_major": 2,
       "version_minor": 0
      },
      "text/plain": [
       "VBox(children=(Dropdown(description='Zip Code', options=(60618, 60609, 60622, 60639, 60657, 60659, 60638, 6060…"
      ]
     },
     "metadata": {},
     "output_type": "display_data"
    }
   ],
   "source": [
    "# tying it all together\n",
    "\n",
    "widgets.VBox([zips_dropdown, column_dropdown, checkbox, columns_dropdown, button])"
   ]
  },
  {
   "cell_type": "markdown",
   "id": "08d3aad9",
   "metadata": {},
   "source": [
    "---"
   ]
  },
  {
   "cell_type": "markdown",
   "id": "ef03a685",
   "metadata": {},
   "source": [
    "## Handling output"
   ]
  },
  {
   "cell_type": "code",
   "execution_count": 193,
   "id": "045ba78e",
   "metadata": {},
   "outputs": [],
   "source": [
    "out = widgets.Output(layout={'border': '1px solid black'})"
   ]
  },
  {
   "cell_type": "code",
   "execution_count": 196,
   "id": "bc33e379",
   "metadata": {},
   "outputs": [],
   "source": [
    "def printer(b):\n",
    "    with out:\n",
    "        print('hey, ya')"
   ]
  },
  {
   "cell_type": "code",
   "execution_count": 138,
   "id": "a8438ec3",
   "metadata": {},
   "outputs": [
    {
     "data": {
      "application/vnd.jupyter.widget-view+json": {
       "model_id": "eee0de1e2cbd442a97d5cb0a87a1ca66",
       "version_major": 2,
       "version_minor": 0
      },
      "text/plain": [
       "Output(layout=Layout(border='1px solid black'), outputs=({'output_type': 'stream', 'text': 'hello\\nhello\\nhell…"
      ]
     },
     "metadata": {},
     "output_type": "display_data"
    }
   ],
   "source": [
    "out"
   ]
  },
  {
   "cell_type": "code",
   "execution_count": 200,
   "id": "12533b00",
   "metadata": {},
   "outputs": [],
   "source": [
    "button.on_click(printer)"
   ]
  },
  {
   "cell_type": "code",
   "execution_count": 201,
   "id": "169e674f",
   "metadata": {},
   "outputs": [
    {
     "data": {
      "application/vnd.jupyter.widget-view+json": {
       "model_id": "27f0f824ef2d494194801e3a00d5b53d",
       "version_major": 2,
       "version_minor": 0
      },
      "text/plain": [
       "Button(description='Run', style=ButtonStyle(), tooltip='Updates the query')"
      ]
     },
     "metadata": {},
     "output_type": "display_data"
    },
    {
     "data": {
      "application/vnd.jupyter.widget-view+json": {
       "model_id": "7146efb467ef430b8b56699c10555588",
       "version_major": 2,
       "version_minor": 0
      },
      "text/plain": [
       "Output(layout=Layout(border='1px solid black'), outputs=({'output_type': 'stream', 'text': 'hey, ya\\n', 'name'…"
      ]
     },
     "metadata": {},
     "output_type": "display_data"
    }
   ],
   "source": [
    "display(button, out)"
   ]
  },
  {
   "cell_type": "code",
   "execution_count": 190,
   "id": "a8b0e28e",
   "metadata": {},
   "outputs": [],
   "source": [
    "out.clear_output()"
   ]
  }
 ],
 "metadata": {
  "kernelspec": {
   "display_name": "Python [conda env:myenv]",
   "language": "python",
   "name": "conda-env-myenv-py"
  },
  "language_info": {
   "codemirror_mode": {
    "name": "ipython",
    "version": 3
   },
   "file_extension": ".py",
   "mimetype": "text/x-python",
   "name": "python",
   "nbconvert_exporter": "python",
   "pygments_lexer": "ipython3",
   "version": "3.9.12"
  }
 },
 "nbformat": 4,
 "nbformat_minor": 5
}
